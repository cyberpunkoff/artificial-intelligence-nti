{
 "cells": [
  {
   "cell_type": "markdown",
   "id": "executive-image",
   "metadata": {},
   "source": [
    "### **Весь предложенный ниже код исполльзует материалы с сайта kaggle.com** \n",
    "*Если вы хотите проверить его работоспособность необходимо загрузить архив данных habr.com по [ссылке](https://www.kaggle.com/awant08/habrahabr-articles) (требуется регистрация)*"
   ]
  },
  {
   "cell_type": "markdown",
   "id": "renewable-spider",
   "metadata": {},
   "source": [
    "#### Код программы подсчитывающей количество постов за разные года\n",
    "Для использования он должен лежать в папке pages"
   ]
  },
  {
   "cell_type": "code",
   "execution_count": null,
   "id": "mysterious-joint",
   "metadata": {},
   "outputs": [],
   "source": [
    "import os\n",
    "\n",
    "count = {}\n",
    "\n",
    "for i in range(2006,2021):\n",
    "    count[str(i)] = 0\n",
    "\n",
    "for root, dirs, files in os.walk(\".\"):\n",
    "    for name in dirs:\n",
    "        lenght = len(os.listdir(os.path.join(root, name)))\n",
    "        count[name.split('-')[0]] += lenght\n",
    "\n",
    "print(count)"
   ]
  },
  {
   "cell_type": "markdown",
   "id": "acute-membrane",
   "metadata": {},
   "source": [
    "#### Подсчет наиболее популярных слов используя заданные фильтры\n",
    "Реализовано с помощью библиотеки pandas. Для использования требуется предварительно сгенерированный data.csv с сайта kaggle.com"
   ]
  },
  {
   "cell_type": "code",
   "execution_count": null,
   "id": "higher-spoke",
   "metadata": {},
   "outputs": [],
   "source": [
    "from collections import *\n",
    "import pandas as pd \n",
    "\n",
    "data = pd.read_csv(\"data.csv\")\n",
    "words = {}\n",
    "\n",
    "for i in range(10556): #csv entries\n",
    "    if int(data[\"rating\"][i]) >= 0: # filter changing\n",
    "        for word in data[\"title\"][i].split(' '): # column i.e. ten_most_common_words\n",
    "            if word.lower() not in words.keys():\n",
    "                words[word.lower()] = 1\n",
    "            else:\n",
    "                words[word.lower()] +=1\n",
    "\n",
    "print(Counter(words).most_common(150))"
   ]
  },
  {
   "cell_type": "markdown",
   "id": "municipal-excess",
   "metadata": {},
   "source": [
    "#### Генерация списка статей\n",
    "С помощью этой программы я генерировал списки статей дли алгоритма рекомендаций"
   ]
  },
  {
   "cell_type": "code",
   "execution_count": null,
   "id": "proud-electricity",
   "metadata": {},
   "outputs": [],
   "source": [
    "from collections import *\n",
    "import pandas as pd \n",
    "\n",
    "count = 0\n",
    "\n",
    "data = pd.read_csv(\"data.csv\")\n",
    "generated = []\n",
    "\n",
    "for i in range(10556): #10556\n",
    "    if count == 10:\n",
    "        break\n",
    "    temp = {}\n",
    "    if \"программирование\" in str(data.at[i, \"tags\"]).split(', ') or \"программирование\" in str(data.at[i, \"description\"]):\n",
    "            temp[\"link\"] = data[\"link\"][i]\n",
    "            temp[\"rating\"] = int(data[\"rating\"][i])\n",
    "            temp[\"lenght\"] = data[\"sentences_count\"][i]\n",
    "            generated.append(temp)\n",
    "            count += 1\n",
    "print(generated)"
   ]
  }
 ],
 "metadata": {
  "kernelspec": {
   "display_name": "Python 3",
   "language": "python",
   "name": "python3"
  },
  "language_info": {
   "codemirror_mode": {
    "name": "ipython",
    "version": 3
   },
   "file_extension": ".py",
   "mimetype": "text/x-python",
   "name": "python",
   "nbconvert_exporter": "python",
   "pygments_lexer": "ipython3",
   "version": "3.9.1"
  },
  "toc-showmarkdowntxt": false
 },
 "nbformat": 4,
 "nbformat_minor": 5
}
